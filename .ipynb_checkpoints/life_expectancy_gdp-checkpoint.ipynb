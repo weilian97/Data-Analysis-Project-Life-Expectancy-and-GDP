{
 "cells": [
  {
   "cell_type": "markdown",
   "metadata": {},
   "source": [
    "Introduction\n",
    "This project will investigate if there is a strong correlation between the economic output of a country and the life expectancy of its citizens.\n",
    "\n",
    "The goals are to prepare data, followed by analysis with plots, and seek to explain the findings from the study.\n",
    "\n",
    "Here are a few questions that this project will seek to answer:\n",
    "\n",
    "Has life expectancy increased over time in the six nations?\n",
    "Has GDP increased over time in the six nations?\n",
    "Is there a correlation between GDP and life expectancy of a country?\n",
    "What is the average life expectancy in these nations?\n",
    "What is the distribution of that life expectancy?\n",
    "Data sources\n",
    "\n",
    "GDP Source: World Bank national accounts data, and OECD National Accounts data files.\n",
    "\n",
    "Life expectancy Data Source: World Health Organization"
   ]
  }
 ],
 "metadata": {
  "kernelspec": {
   "display_name": "Python 3 (ipykernel)",
   "language": "python",
   "name": "python3"
  },
  "language_info": {
   "codemirror_mode": {
    "name": "ipython",
    "version": 3
   },
   "file_extension": ".py",
   "mimetype": "text/x-python",
   "name": "python",
   "nbconvert_exporter": "python",
   "pygments_lexer": "ipython3",
   "version": "3.9.13"
  }
 },
 "nbformat": 4,
 "nbformat_minor": 4
}
